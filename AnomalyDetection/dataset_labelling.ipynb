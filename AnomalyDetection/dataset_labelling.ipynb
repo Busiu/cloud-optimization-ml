{
 "metadata": {
  "language_info": {
   "codemirror_mode": {
    "name": "ipython",
    "version": 3
   },
   "file_extension": ".py",
   "mimetype": "text/x-python",
   "name": "python",
   "nbconvert_exporter": "python",
   "pygments_lexer": "ipython3",
   "version": "3.8.2-final"
  },
  "orig_nbformat": 2,
  "kernelspec": {
   "name": "python3",
   "display_name": "Python 3.8.2 64-bit",
   "metadata": {
    "interpreter": {
     "hash": "9a618e11ae6bcc2c8e37bc244d353193e07a19e9454accd81ce3f300f423d654"
    }
   }
  }
 },
 "nbformat": 4,
 "nbformat_minor": 2,
 "cells": [
  {
   "cell_type": "code",
   "execution_count": 1,
   "metadata": {},
   "outputs": [],
   "source": [
    "import pandas as pd\n",
    "import numpy as np\n",
    "from scipy import stats"
   ]
  },
  {
   "cell_type": "code",
   "execution_count": 2,
   "metadata": {},
   "outputs": [],
   "source": [
    "df = pd.read_csv('xd.csv')"
   ]
  },
  {
   "cell_type": "code",
   "execution_count": 3,
   "metadata": {},
   "outputs": [],
   "source": [
    "grouped_df = [group for _, group in df.groupby(['type', 'pages'], as_index=False)]"
   ]
  },
  {
   "cell_type": "code",
   "execution_count": 4,
   "metadata": {},
   "outputs": [
    {
     "output_type": "stream",
     "name": "stdout",
     "text": [
      "      type   time  size  battery  pages  iterations  isAnomaly\n280  cloud  57.37  0.13  -133158      1          10          1\n348  cloud  52.37  0.13    -2429      1          10          1\n391  cloud  53.64  0.13    -1967      1          10          1\n483  cloud  57.33  0.13    -2065      1          10          1\n501  cloud  57.36  0.13    -2150      1          10          1\n530  cloud  51.87  0.13    -2392      1          10          1\n539  cloud  53.26  0.08    -2182      1          10          1\n541  cloud  57.98  0.08    -2198      1          10          1\n555  cloud  57.76  0.08    -2164      1          10          1\n562  cloud  52.69  0.08    -2522      1          10          1\n565  cloud  52.89  0.08    -2040      1          10          1\n572  cloud  53.19  0.08    -2150      1          10          1\n581  cloud  63.10  0.08    -2340      1          10          1\n589  cloud  52.35  0.08    -2940      1          10          1\n598  cloud  58.82  0.08    -2535      1          10          1\n600  cloud  57.74  0.08    -2040      1          10          1\n621  cloud  58.04  0.08    -2358      1          10          1\n628  cloud  52.10  0.08    -2373      1          10          1\n\n      type    time  size  battery  pages  iterations  isAnomaly\n159  cloud  149.92  0.07    25621      2          10          1\n178  cloud  439.66  0.07    -9777      2          10          1\n248  cloud  257.32  0.07    -7942      2          10          1\n255  cloud  114.31  0.07   -12060      2          10          1\n257  cloud  104.05  0.07    -9475      2          10          1\n\n      type    time  size  battery  pages  iterations  isAnomaly\n111  cloud  399.08  0.42   -24378      4          10          1\n115  cloud  301.61  0.42   -26428      4          10          1\n119  cloud  209.63  0.42   -32397      4          10          1\n\nEmpty DataFrame\nColumns: [type, time, size, battery, pages, iterations, isAnomaly]\nIndex: []\n\nEmpty DataFrame\nColumns: [type, time, size, battery, pages, iterations, isAnomaly]\nIndex: []\n\n      type    time  size  battery  pages  iterations  isAnomaly\n254  local  128.04  0.07   -17037      2          10          1\n256  local  206.91  0.07   -24912      2          10          1\n\nEmpty DataFrame\nColumns: [type, time, size, battery, pages, iterations, isAnomaly]\nIndex: []\n\nEmpty DataFrame\nColumns: [type, time, size, battery, pages, iterations, isAnomaly]\nIndex: []\n\n"
     ]
    }
   ],
   "source": [
    "for group in grouped_df:\n",
    "    battery = group['battery']\n",
    "    time = group['time']\n",
    "\n",
    "    battery_q25, battery_q75 = np.percentile(battery, 25), np.percentile(battery, 75)\n",
    "    battery_iqr = battery_q75 - battery_q25\n",
    "\n",
    "    battery_cutoff = battery_iqr * 1.5\n",
    "    battery_lower, battery_upper = battery_q25 - battery_cutoff, battery_q75 + battery_cutoff\n",
    "\n",
    "\n",
    "    time_q25, time_q75 = np.percentile(time, 25), np.percentile(time, 75)\n",
    "    time_iqr = time_q75 - time_q25\n",
    "\n",
    "    time_cutoff = time_iqr * 1.5\n",
    "    time_lower, time_upper = time_q25 - time_cutoff, time_q75 + time_cutoff\n",
    "\n",
    "    isAnomaly = [\n",
    "        int(\n",
    "            (row['time'] < time_lower or row['time'] > time_upper)\n",
    "            or\n",
    "            (row['battery'] < battery_lower or row['battery'] > battery_upper)\n",
    "        )\n",
    "        for _, row\n",
    "        in group.iterrows()\n",
    "    ]\n",
    "    group['isAnomaly'] = isAnomaly\n",
    "\n",
    "    print(group[group['isAnomaly'] == 1])\n",
    "    print()"
   ]
  },
  {
   "cell_type": "code",
   "execution_count": 5,
   "metadata": {},
   "outputs": [],
   "source": [
    "labeled_df = pd.concat(grouped_df).sort_index()"
   ]
  },
  {
   "cell_type": "code",
   "execution_count": 6,
   "metadata": {},
   "outputs": [],
   "source": [
    "labeled_df.to_csv('labeled.csv', index=False)"
   ]
  }
 ]
}